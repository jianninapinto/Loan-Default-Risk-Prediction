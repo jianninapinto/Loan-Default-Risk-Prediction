{
  "cells": [
    {
      "cell_type": "markdown",
      "id": "889d452c",
      "metadata": {
        "id": "889d452c"
      },
      "source": [
        "BloomTech Data Science\n",
        "\n",
        "*Unit 2, Sprint 3, Module 3*\n",
        "\n",
        "---\n",
        "\n",
        "\n",
        "# Permutation & Boosting\n",
        "You will use your portfolio project dataset for all assignments this sprint.\n",
        "\n",
        "\n",
        "\n",
        "## Assignment\n",
        "Complete these tasks for your project, and document your work.\n",
        "\n",
        "- Try xgboost.\n",
        "- Get your model's permutation importances.\n"
      ]
    },
    {
      "cell_type": "markdown",
      "id": "1f9d9a92",
      "metadata": {
        "id": "1f9d9a92"
      },
      "source": [
        "## Business Scenario\n",
        "\n",
        "Lending Club is an American lending marketplace that connects investors with borrowers. Instead of a bank or financial institution, investors act as lenders to fund borrowers loans.\n",
        "\n",
        "Investors want to lend money to people who show a profile\n",
        "of having a high probability of repayment. However, they face the challenge of predicting the risk of a borrower being unable to pay the loan back in full. They feel that the insights from existing data will help them in making data-driven decisions. So as data scientists, we will be building a model that can help in predicting whether a loan will not be paid back.\n",
        "\n",
        "The dataset contains more than 9,500 loans with information about the borrower profile, loan structure and whether the loan was repaid. This data was extracted from [Kaggle - Loan Data](https://www.kaggle.com/datasets/itssuru/loan-data).\n",
        "\n",
        "### Original Data Dictionary\n",
        "\n",
        "|    | Variable          | Explanation                                                                                                             |\n",
        "|---:|:------------------|:------------------------------------------------------------------------------------------------------------------------|\n",
        "|  0 | credit_policy     | 1 if the customer meets the credit underwriting criteria; 0 otherwise.                                                  |\n",
        "|  1 | purpose           | The purpose of the loan.                                                                                                |\n",
        "|  2 | int_rate          | The interest rate of the loan (more risky borrowers are assigned higher interest rates).                                |\n",
        "|  3 | installment       | The monthly installments owed by the borrower if the loan is funded.                                                    |\n",
        "|  4 | log_annual_inc    | The natural log of the self-reported annual income of the borrower.                                                     |\n",
        "|  5 | dti               | The debt-to-income ratio of the borrower (amount of debt divided by annual income).                                     |\n",
        "|  6 | fico              | The FICO credit score of the borrower.                                                                                  |\n",
        "|  7 | days_with_cr_line | The number of days the borrower has had a credit line.                                                                  |\n",
        "|  8 | revol_bal         | The borrower's revolving balance (amount unpaid at the end of the credit card billing cycle).                           |\n",
        "|  9 | revol_util        | The borrower's revolving line utilization rate (the amount of the credit line used relative to total credit available). |\n",
        "| 10 | inq_last_6mths    | The borrower's number of inquiries by creditors in the last 6 months.                                                   |\n",
        "| 11 | delinq_2yrs       | The number of times the borrower had been 30+ days past due on a payment in the past 2 years.                           |\n",
        "| 12 | pub_rec           | The borrower's number of derogatory public records.                                                                     |\n",
        "| 13 | not_fully_paid    | 1 if the loan is not fully paid; 0 otherwise.   "
      ]
    },
    {
      "cell_type": "code",
      "execution_count": 2,
      "id": "6c88fc3a",
      "metadata": {
        "id": "6c88fc3a"
      },
      "outputs": [],
      "source": [
        "# Import Libraries\n",
        "\n",
        "import pandas as pd\n",
        "%matplotlib inline\n",
        "import matplotlib.pyplot as plt\n",
        "import numpy as np\n",
        "import seaborn as sns\n",
        "\n",
        "from imblearn.over_sampling import SMOTE # to fix imbalance data\n",
        "from imblearn.under_sampling import RandomUnderSampler\n",
        "from xgboost import XGBClassifier\n",
        "\n",
        "from sklearn.model_selection import train_test_split, cross_val_predict, StratifiedKFold, cross_val_score, RandomizedSearchCV\n",
        "from sklearn.linear_model import LogisticRegression\n",
        "from sklearn.metrics import classification_report, f1_score, ConfusionMatrixDisplay, confusion_matrix\n",
        "from sklearn.ensemble import RandomForestClassifier\n",
        "from sklearn.compose import ColumnTransformer\n",
        "from sklearn.preprocessing import StandardScaler, OneHotEncoder\n",
        "from imblearn.pipeline import Pipeline\n",
        "from sklearn.inspection import permutation_importance"
      ]
    },
    {
      "cell_type": "code",
      "source": [
        "# Path to dataset\n",
        "DATA_PATH = '/content/loan_data.csv'"
      ],
      "metadata": {
        "id": "a8quDuAq9zg9"
      },
      "id": "a8quDuAq9zg9",
      "execution_count": 3,
      "outputs": []
    },
    {
      "cell_type": "markdown",
      "id": "fd743ade",
      "metadata": {
        "id": "fd743ade"
      },
      "source": [
        "## I. Wrangle Data"
      ]
    },
    {
      "cell_type": "code",
      "execution_count": 4,
      "id": "9d9dc006",
      "metadata": {
        "id": "9d9dc006"
      },
      "outputs": [],
      "source": [
        "def wrangle(filepath):\n",
        "  \"\"\"\n",
        "  This function performs data wrangling on the given dataset. It reads the dataset from the provided file path,\n",
        "  replaces periods in column names with underscores, sets the data type of the 'purpose' column as category,\n",
        "  handles outliers in the 'log_annual_inc' feature, performs feature engineering to create new columns,\n",
        "  and drops the columns used for feature engineering to prevent data leakage.\n",
        "\n",
        "  Parameters:\n",
        "  - filepath (str): The file path of the dataset to be read.\n",
        "\n",
        "  Returns:\n",
        "  - loans (DataFrame): The cleaned and feature-engineered dataset.\n",
        "  \"\"\"\n",
        "  loans = pd.read_csv(filepath)\n",
        "\n",
        "  # Replacing period in column names with underscore\n",
        "  loans.columns = loans.columns.str.replace(\".\", \"_\", regex=True)\n",
        "\n",
        "  # Set data type of 'purpose' column as category\n",
        "  loans['purpose'] = loans['purpose'].astype('category')\n",
        "\n",
        "  # Outliers - Finding the upper and lower bounds for the log_annual_inc feature\n",
        "  def find_outlier_limits(col_name):\n",
        "      Q1,Q3=loans[col_name].quantile([.25,.75])\n",
        "      IQR=Q3-Q1\n",
        "      low=Q1-(1.5* IQR)\n",
        "      high=Q3+(1.5* IQR)\n",
        "      return (high,low)\n",
        "\n",
        "  high_log_annual_inc, low_log_annual_inc = find_outlier_limits('log_annual_inc')\n",
        "\n",
        "  # Replacing outlier values for log_annual_inc, and installment with respective upper and lower limits\n",
        "  loans.loc[loans['log_annual_inc'] > high_log_annual_inc,'log_annual_inc'] = high_log_annual_inc\n",
        "  loans.loc[loans['log_annual_inc'] < low_log_annual_inc,'log_annual_inc'] = low_log_annual_inc\n",
        "\n",
        "  # Feature engineering\n",
        "  loans['credit_score_cat'] = np.where(loans['fico'] >= 670, 'Good/Excellent', 'Fair/Poor')\n",
        "  loans['multiple_hard_inq'] = np.where(loans['inq_last_6mths'] > 2, 1, 0)\n",
        "  loans['cr_util_rate'] = loans['revol_util'].apply(lambda x: 1 if (x > 30 or x == 0) else 0)\n",
        "\n",
        "  # To avoid data leakage let's drop the columns used to do feature engineering\n",
        "  loans.drop(columns=['fico', 'inq_last_6mths', 'revol_util'], inplace=True)\n",
        "\n",
        "  return loans"
      ]
    },
    {
      "cell_type": "code",
      "execution_count": 5,
      "id": "b85242ea",
      "metadata": {
        "colab": {
          "base_uri": "https://localhost:8080/",
          "height": 363
        },
        "id": "b85242ea",
        "outputId": "69f6c5a1-bae9-45bd-bf59-803e58f8a02e"
      },
      "outputs": [
        {
          "output_type": "display_data",
          "data": {
            "text/plain": [
              "      credit_policy             purpose  int_rate  installment  \\\n",
              "3782              1  debt_consolidation    0.1253       167.34   \n",
              "4525              1           all_other    0.1322        67.61   \n",
              "5352              1  debt_consolidation    0.0859       347.72   \n",
              "1441              1         educational    0.1241       260.61   \n",
              "2437              1  debt_consolidation    0.1347       227.29   \n",
              "2725              1           all_other    0.1537       104.54   \n",
              "7417              1           all_other    0.1273       201.40   \n",
              "7392              1  debt_consolidation    0.1136       164.56   \n",
              "964               1           all_other    0.1134       131.60   \n",
              "3193              1      major_purchase    0.1158       118.85   \n",
              "\n",
              "      log_annual_inc    dti  days_with_cr_line  revol_bal  delinq_2yrs  \\\n",
              "3782       10.545341  19.14        2220.000000      19876            0   \n",
              "4525       10.915088   9.77        5250.000000       1083            0   \n",
              "5352        9.952278  16.46        3629.958333       4372            0   \n",
              "1441       11.141862  11.50        1920.000000      36081            0   \n",
              "2437       11.187251  14.21        5760.041667      53683            0   \n",
              "2725       11.002100   1.00        1800.000000       1048            0   \n",
              "7417       10.950807   7.73        4680.041667          0            1   \n",
              "7392       10.714418   6.51        4620.041667       5971            0   \n",
              "964        11.561716  11.04        1650.000000       1527            0   \n",
              "3193       10.404263  23.60        1651.958333      10018            0   \n",
              "\n",
              "      pub_rec  not_fully_paid credit_score_cat  multiple_hard_inq  \\\n",
              "3782        0               0   Good/Excellent                  0   \n",
              "4525        0               0   Good/Excellent                  1   \n",
              "5352        0               1   Good/Excellent                  0   \n",
              "1441        1               0   Good/Excellent                  0   \n",
              "2437        0               0   Good/Excellent                  0   \n",
              "2725        0               1   Good/Excellent                  0   \n",
              "7417        2               0   Good/Excellent                  0   \n",
              "7392        1               0   Good/Excellent                  0   \n",
              "964         1               0   Good/Excellent                  0   \n",
              "3193        0               0   Good/Excellent                  0   \n",
              "\n",
              "      cr_util_rate  \n",
              "3782             1  \n",
              "4525             1  \n",
              "5352             0  \n",
              "1441             1  \n",
              "2437             1  \n",
              "2725             1  \n",
              "7417             1  \n",
              "7392             1  \n",
              "964              1  \n",
              "3193             1  "
            ],
            "text/html": [
              "\n",
              "\n",
              "  <div id=\"df-1cdc44e3-f455-4099-9dbd-21850772c633\">\n",
              "    <div class=\"colab-df-container\">\n",
              "      <div>\n",
              "<style scoped>\n",
              "    .dataframe tbody tr th:only-of-type {\n",
              "        vertical-align: middle;\n",
              "    }\n",
              "\n",
              "    .dataframe tbody tr th {\n",
              "        vertical-align: top;\n",
              "    }\n",
              "\n",
              "    .dataframe thead th {\n",
              "        text-align: right;\n",
              "    }\n",
              "</style>\n",
              "<table border=\"1\" class=\"dataframe\">\n",
              "  <thead>\n",
              "    <tr style=\"text-align: right;\">\n",
              "      <th></th>\n",
              "      <th>credit_policy</th>\n",
              "      <th>purpose</th>\n",
              "      <th>int_rate</th>\n",
              "      <th>installment</th>\n",
              "      <th>log_annual_inc</th>\n",
              "      <th>dti</th>\n",
              "      <th>days_with_cr_line</th>\n",
              "      <th>revol_bal</th>\n",
              "      <th>delinq_2yrs</th>\n",
              "      <th>pub_rec</th>\n",
              "      <th>not_fully_paid</th>\n",
              "      <th>credit_score_cat</th>\n",
              "      <th>multiple_hard_inq</th>\n",
              "      <th>cr_util_rate</th>\n",
              "    </tr>\n",
              "  </thead>\n",
              "  <tbody>\n",
              "    <tr>\n",
              "      <th>3782</th>\n",
              "      <td>1</td>\n",
              "      <td>debt_consolidation</td>\n",
              "      <td>0.1253</td>\n",
              "      <td>167.34</td>\n",
              "      <td>10.545341</td>\n",
              "      <td>19.14</td>\n",
              "      <td>2220.000000</td>\n",
              "      <td>19876</td>\n",
              "      <td>0</td>\n",
              "      <td>0</td>\n",
              "      <td>0</td>\n",
              "      <td>Good/Excellent</td>\n",
              "      <td>0</td>\n",
              "      <td>1</td>\n",
              "    </tr>\n",
              "    <tr>\n",
              "      <th>4525</th>\n",
              "      <td>1</td>\n",
              "      <td>all_other</td>\n",
              "      <td>0.1322</td>\n",
              "      <td>67.61</td>\n",
              "      <td>10.915088</td>\n",
              "      <td>9.77</td>\n",
              "      <td>5250.000000</td>\n",
              "      <td>1083</td>\n",
              "      <td>0</td>\n",
              "      <td>0</td>\n",
              "      <td>0</td>\n",
              "      <td>Good/Excellent</td>\n",
              "      <td>1</td>\n",
              "      <td>1</td>\n",
              "    </tr>\n",
              "    <tr>\n",
              "      <th>5352</th>\n",
              "      <td>1</td>\n",
              "      <td>debt_consolidation</td>\n",
              "      <td>0.0859</td>\n",
              "      <td>347.72</td>\n",
              "      <td>9.952278</td>\n",
              "      <td>16.46</td>\n",
              "      <td>3629.958333</td>\n",
              "      <td>4372</td>\n",
              "      <td>0</td>\n",
              "      <td>0</td>\n",
              "      <td>1</td>\n",
              "      <td>Good/Excellent</td>\n",
              "      <td>0</td>\n",
              "      <td>0</td>\n",
              "    </tr>\n",
              "    <tr>\n",
              "      <th>1441</th>\n",
              "      <td>1</td>\n",
              "      <td>educational</td>\n",
              "      <td>0.1241</td>\n",
              "      <td>260.61</td>\n",
              "      <td>11.141862</td>\n",
              "      <td>11.50</td>\n",
              "      <td>1920.000000</td>\n",
              "      <td>36081</td>\n",
              "      <td>0</td>\n",
              "      <td>1</td>\n",
              "      <td>0</td>\n",
              "      <td>Good/Excellent</td>\n",
              "      <td>0</td>\n",
              "      <td>1</td>\n",
              "    </tr>\n",
              "    <tr>\n",
              "      <th>2437</th>\n",
              "      <td>1</td>\n",
              "      <td>debt_consolidation</td>\n",
              "      <td>0.1347</td>\n",
              "      <td>227.29</td>\n",
              "      <td>11.187251</td>\n",
              "      <td>14.21</td>\n",
              "      <td>5760.041667</td>\n",
              "      <td>53683</td>\n",
              "      <td>0</td>\n",
              "      <td>0</td>\n",
              "      <td>0</td>\n",
              "      <td>Good/Excellent</td>\n",
              "      <td>0</td>\n",
              "      <td>1</td>\n",
              "    </tr>\n",
              "    <tr>\n",
              "      <th>2725</th>\n",
              "      <td>1</td>\n",
              "      <td>all_other</td>\n",
              "      <td>0.1537</td>\n",
              "      <td>104.54</td>\n",
              "      <td>11.002100</td>\n",
              "      <td>1.00</td>\n",
              "      <td>1800.000000</td>\n",
              "      <td>1048</td>\n",
              "      <td>0</td>\n",
              "      <td>0</td>\n",
              "      <td>1</td>\n",
              "      <td>Good/Excellent</td>\n",
              "      <td>0</td>\n",
              "      <td>1</td>\n",
              "    </tr>\n",
              "    <tr>\n",
              "      <th>7417</th>\n",
              "      <td>1</td>\n",
              "      <td>all_other</td>\n",
              "      <td>0.1273</td>\n",
              "      <td>201.40</td>\n",
              "      <td>10.950807</td>\n",
              "      <td>7.73</td>\n",
              "      <td>4680.041667</td>\n",
              "      <td>0</td>\n",
              "      <td>1</td>\n",
              "      <td>2</td>\n",
              "      <td>0</td>\n",
              "      <td>Good/Excellent</td>\n",
              "      <td>0</td>\n",
              "      <td>1</td>\n",
              "    </tr>\n",
              "    <tr>\n",
              "      <th>7392</th>\n",
              "      <td>1</td>\n",
              "      <td>debt_consolidation</td>\n",
              "      <td>0.1136</td>\n",
              "      <td>164.56</td>\n",
              "      <td>10.714418</td>\n",
              "      <td>6.51</td>\n",
              "      <td>4620.041667</td>\n",
              "      <td>5971</td>\n",
              "      <td>0</td>\n",
              "      <td>1</td>\n",
              "      <td>0</td>\n",
              "      <td>Good/Excellent</td>\n",
              "      <td>0</td>\n",
              "      <td>1</td>\n",
              "    </tr>\n",
              "    <tr>\n",
              "      <th>964</th>\n",
              "      <td>1</td>\n",
              "      <td>all_other</td>\n",
              "      <td>0.1134</td>\n",
              "      <td>131.60</td>\n",
              "      <td>11.561716</td>\n",
              "      <td>11.04</td>\n",
              "      <td>1650.000000</td>\n",
              "      <td>1527</td>\n",
              "      <td>0</td>\n",
              "      <td>1</td>\n",
              "      <td>0</td>\n",
              "      <td>Good/Excellent</td>\n",
              "      <td>0</td>\n",
              "      <td>1</td>\n",
              "    </tr>\n",
              "    <tr>\n",
              "      <th>3193</th>\n",
              "      <td>1</td>\n",
              "      <td>major_purchase</td>\n",
              "      <td>0.1158</td>\n",
              "      <td>118.85</td>\n",
              "      <td>10.404263</td>\n",
              "      <td>23.60</td>\n",
              "      <td>1651.958333</td>\n",
              "      <td>10018</td>\n",
              "      <td>0</td>\n",
              "      <td>0</td>\n",
              "      <td>0</td>\n",
              "      <td>Good/Excellent</td>\n",
              "      <td>0</td>\n",
              "      <td>1</td>\n",
              "    </tr>\n",
              "  </tbody>\n",
              "</table>\n",
              "</div>\n",
              "      <button class=\"colab-df-convert\" onclick=\"convertToInteractive('df-1cdc44e3-f455-4099-9dbd-21850772c633')\"\n",
              "              title=\"Convert this dataframe to an interactive table.\"\n",
              "              style=\"display:none;\">\n",
              "\n",
              "  <svg xmlns=\"http://www.w3.org/2000/svg\" height=\"24px\"viewBox=\"0 0 24 24\"\n",
              "       width=\"24px\">\n",
              "    <path d=\"M0 0h24v24H0V0z\" fill=\"none\"/>\n",
              "    <path d=\"M18.56 5.44l.94 2.06.94-2.06 2.06-.94-2.06-.94-.94-2.06-.94 2.06-2.06.94zm-11 1L8.5 8.5l.94-2.06 2.06-.94-2.06-.94L8.5 2.5l-.94 2.06-2.06.94zm10 10l.94 2.06.94-2.06 2.06-.94-2.06-.94-.94-2.06-.94 2.06-2.06.94z\"/><path d=\"M17.41 7.96l-1.37-1.37c-.4-.4-.92-.59-1.43-.59-.52 0-1.04.2-1.43.59L10.3 9.45l-7.72 7.72c-.78.78-.78 2.05 0 2.83L4 21.41c.39.39.9.59 1.41.59.51 0 1.02-.2 1.41-.59l7.78-7.78 2.81-2.81c.8-.78.8-2.07 0-2.86zM5.41 20L4 18.59l7.72-7.72 1.47 1.35L5.41 20z\"/>\n",
              "  </svg>\n",
              "      </button>\n",
              "\n",
              "\n",
              "\n",
              "    <div id=\"df-fc4019f9-0356-4d62-8957-f7cb40f1e057\">\n",
              "      <button class=\"colab-df-quickchart\" onclick=\"quickchart('df-fc4019f9-0356-4d62-8957-f7cb40f1e057')\"\n",
              "              title=\"Suggest charts.\"\n",
              "              style=\"display:none;\">\n",
              "\n",
              "<svg xmlns=\"http://www.w3.org/2000/svg\" height=\"24px\"viewBox=\"0 0 24 24\"\n",
              "     width=\"24px\">\n",
              "    <g>\n",
              "        <path d=\"M19 3H5c-1.1 0-2 .9-2 2v14c0 1.1.9 2 2 2h14c1.1 0 2-.9 2-2V5c0-1.1-.9-2-2-2zM9 17H7v-7h2v7zm4 0h-2V7h2v10zm4 0h-2v-4h2v4z\"/>\n",
              "    </g>\n",
              "</svg>\n",
              "      </button>\n",
              "    </div>\n",
              "\n",
              "<style>\n",
              "  .colab-df-quickchart {\n",
              "    background-color: #E8F0FE;\n",
              "    border: none;\n",
              "    border-radius: 50%;\n",
              "    cursor: pointer;\n",
              "    display: none;\n",
              "    fill: #1967D2;\n",
              "    height: 32px;\n",
              "    padding: 0 0 0 0;\n",
              "    width: 32px;\n",
              "  }\n",
              "\n",
              "  .colab-df-quickchart:hover {\n",
              "    background-color: #E2EBFA;\n",
              "    box-shadow: 0px 1px 2px rgba(60, 64, 67, 0.3), 0px 1px 3px 1px rgba(60, 64, 67, 0.15);\n",
              "    fill: #174EA6;\n",
              "  }\n",
              "\n",
              "  [theme=dark] .colab-df-quickchart {\n",
              "    background-color: #3B4455;\n",
              "    fill: #D2E3FC;\n",
              "  }\n",
              "\n",
              "  [theme=dark] .colab-df-quickchart:hover {\n",
              "    background-color: #434B5C;\n",
              "    box-shadow: 0px 1px 3px 1px rgba(0, 0, 0, 0.15);\n",
              "    filter: drop-shadow(0px 1px 2px rgba(0, 0, 0, 0.3));\n",
              "    fill: #FFFFFF;\n",
              "  }\n",
              "</style>\n",
              "\n",
              "    <script>\n",
              "      async function quickchart(key) {\n",
              "        const containerElement = document.querySelector('#' + key);\n",
              "        const charts = await google.colab.kernel.invokeFunction(\n",
              "            'suggestCharts', [key], {});\n",
              "      }\n",
              "    </script>\n",
              "\n",
              "      <script>\n",
              "\n",
              "function displayQuickchartButton(domScope) {\n",
              "  let quickchartButtonEl =\n",
              "    domScope.querySelector('#df-fc4019f9-0356-4d62-8957-f7cb40f1e057 button.colab-df-quickchart');\n",
              "  quickchartButtonEl.style.display =\n",
              "    google.colab.kernel.accessAllowed ? 'block' : 'none';\n",
              "}\n",
              "\n",
              "        displayQuickchartButton(document);\n",
              "      </script>\n",
              "      <style>\n",
              "    .colab-df-container {\n",
              "      display:flex;\n",
              "      flex-wrap:wrap;\n",
              "      gap: 12px;\n",
              "    }\n",
              "\n",
              "    .colab-df-convert {\n",
              "      background-color: #E8F0FE;\n",
              "      border: none;\n",
              "      border-radius: 50%;\n",
              "      cursor: pointer;\n",
              "      display: none;\n",
              "      fill: #1967D2;\n",
              "      height: 32px;\n",
              "      padding: 0 0 0 0;\n",
              "      width: 32px;\n",
              "    }\n",
              "\n",
              "    .colab-df-convert:hover {\n",
              "      background-color: #E2EBFA;\n",
              "      box-shadow: 0px 1px 2px rgba(60, 64, 67, 0.3), 0px 1px 3px 1px rgba(60, 64, 67, 0.15);\n",
              "      fill: #174EA6;\n",
              "    }\n",
              "\n",
              "    [theme=dark] .colab-df-convert {\n",
              "      background-color: #3B4455;\n",
              "      fill: #D2E3FC;\n",
              "    }\n",
              "\n",
              "    [theme=dark] .colab-df-convert:hover {\n",
              "      background-color: #434B5C;\n",
              "      box-shadow: 0px 1px 3px 1px rgba(0, 0, 0, 0.15);\n",
              "      filter: drop-shadow(0px 1px 2px rgba(0, 0, 0, 0.3));\n",
              "      fill: #FFFFFF;\n",
              "    }\n",
              "  </style>\n",
              "\n",
              "      <script>\n",
              "        const buttonEl =\n",
              "          document.querySelector('#df-1cdc44e3-f455-4099-9dbd-21850772c633 button.colab-df-convert');\n",
              "        buttonEl.style.display =\n",
              "          google.colab.kernel.accessAllowed ? 'block' : 'none';\n",
              "\n",
              "        async function convertToInteractive(key) {\n",
              "          const element = document.querySelector('#df-1cdc44e3-f455-4099-9dbd-21850772c633');\n",
              "          const dataTable =\n",
              "            await google.colab.kernel.invokeFunction('convertToInteractive',\n",
              "                                                     [key], {});\n",
              "          if (!dataTable) return;\n",
              "\n",
              "          const docLinkHtml = 'Like what you see? Visit the ' +\n",
              "            '<a target=\"_blank\" href=https://colab.research.google.com/notebooks/data_table.ipynb>data table notebook</a>'\n",
              "            + ' to learn more about interactive tables.';\n",
              "          element.innerHTML = '';\n",
              "          dataTable['output_type'] = 'display_data';\n",
              "          await google.colab.output.renderOutput(dataTable, element);\n",
              "          const docLink = document.createElement('div');\n",
              "          docLink.innerHTML = docLinkHtml;\n",
              "          element.appendChild(docLink);\n",
              "        }\n",
              "      </script>\n",
              "    </div>\n",
              "  </div>\n"
            ]
          },
          "metadata": {}
        }
      ],
      "source": [
        "# Read data\n",
        "loans = wrangle(DATA_PATH)\n",
        "\n",
        "# Print a sample of the data\n",
        "display(loans.sample(10))"
      ]
    },
    {
      "cell_type": "markdown",
      "id": "eaa7361b",
      "metadata": {
        "id": "eaa7361b"
      },
      "source": [
        "## II. Split Data\n",
        "\n",
        "Perform a random split with cross-validation on the training set for model evaluation. This provides a more robust evaluation by reducing the impact of any particular data split and gives a better estimate of the model's performance on unseen data."
      ]
    },
    {
      "cell_type": "code",
      "execution_count": 6,
      "id": "96ea7e28",
      "metadata": {
        "id": "96ea7e28"
      },
      "outputs": [],
      "source": [
        "target = 'not_fully_paid'\n",
        "\n",
        "y = loans[target] # target vector\n",
        "X = loans.drop(columns=target) # feature matrix"
      ]
    },
    {
      "cell_type": "code",
      "source": [
        "# Randomly split data into train and test sets\n",
        "X_train, X_test, y_train, y_test = train_test_split(X, y, test_size = 0.2, random_state = 42)"
      ],
      "metadata": {
        "id": "NOUFd1k4lcSC"
      },
      "id": "NOUFd1k4lcSC",
      "execution_count": 7,
      "outputs": []
    },
    {
      "cell_type": "code",
      "execution_count": 8,
      "id": "e4756d96",
      "metadata": {
        "colab": {
          "base_uri": "https://localhost:8080/",
          "height": 444
        },
        "id": "e4756d96",
        "outputId": "00c14ce0-d829-4813-d13b-5e003cc83fb9"
      },
      "outputs": [
        {
          "output_type": "display_data",
          "data": {
            "text/plain": [
              "<Figure size 640x480 with 1 Axes>"
            ],
            "image/png": "[encoded data removed]"
          },
          "metadata": {}
        }
      ],
      "source": [
        "# Let's take a look at the distribution of the target\n",
        "y_train.value_counts(normalize=True).plot(kind='bar', color=['cornflowerblue', 'coral'])\n",
        "plt.xlabel('not fully paid')\n",
        "plt.ylabel('percentage');"
      ]
    },
    {
      "cell_type": "markdown",
      "id": "3a147201",
      "metadata": {
        "id": "3a147201"
      },
      "source": [
        "Close to 84% of the instances are labeled as fully paid (class 0) and about 16% are labeled as not fully paid (class 1). This indicates an imbalanced class distribution."
      ]
    },
    {
      "cell_type": "markdown",
      "id": "053569d8",
      "metadata": {
        "id": "053569d8"
      },
      "source": [
        "## III. Establish Baseline\n",
        "\n",
        "The baseline refers to the score or performance that we would achieve by simply guessing or using a basic rule without any predictive modeling. It serves as a reference point to evaluate the effectiveness of our predictive models."
      ]
    },
    {
      "cell_type": "code",
      "source": [
        "# Majority Class\n",
        "print('Majority Class:', y_train.value_counts(normalize=True).idxmax())"
      ],
      "metadata": {
        "colab": {
          "base_uri": "https://localhost:8080/"
        },
        "id": "2RC1NAPJoSyy",
        "outputId": "e2371592-2ca8-41f4-b985-577e75d3f781"
      },
      "id": "2RC1NAPJoSyy",
      "execution_count": 9,
      "outputs": [
        {
          "output_type": "stream",
          "name": "stdout",
          "text": [
            "Majority Class: 0\n"
          ]
        }
      ]
    },
    {
      "cell_type": "code",
      "source": [
        "# Assuming y_train contains the true labels for the training set\n",
        "baseline_guess = [0] * len(y_train)  # Assigning 0 (majority class) to all instances\n",
        "baseline_f1_score = f1_score(y_train, baseline_guess)\n",
        "\n",
        "print(\"Baseline F1-score:\", baseline_f1_score)"
      ],
      "metadata": {
        "colab": {
          "base_uri": "https://localhost:8080/"
        },
        "id": "WH5sXruBUnpe",
        "outputId": "8f4dddcd-1ce0-4a7b-cb63-4a03b33c3e5a"
      },
      "id": "WH5sXruBUnpe",
      "execution_count": 10,
      "outputs": [
        {
          "output_type": "stream",
          "name": "stdout",
          "text": [
            "Baseline F1-score: 0.0\n"
          ]
        }
      ]
    },
    {
      "cell_type": "code",
      "execution_count": 11,
      "id": "b1833c09",
      "metadata": {
        "colab": {
          "base_uri": "https://localhost:8080/"
        },
        "id": "b1833c09",
        "outputId": "1cae53ee-649b-4e02-e2d8-342c261f7eee"
      },
      "outputs": [
        {
          "output_type": "stream",
          "name": "stdout",
          "text": [
            "Baseline accuracy 0.8397285304098147\n"
          ]
        }
      ],
      "source": [
        "print('Baseline accuracy', y_train.value_counts(normalize=True).max())"
      ]
    },
    {
      "cell_type": "markdown",
      "id": "51c40850",
      "metadata": {
        "id": "51c40850"
      },
      "source": [
        "## IV. Build XGBoost Model and Evaluate Metrics\n",
        "\n",
        "We will develop an XGBoost model for training and tuning, using the F1-score as the evaluation metric. The F1-score considers both false positives (approving loans to potential defaulters) and false negatives (missing out on potential good borrowers).\n",
        "\n",
        "We will apply the SMOTE (Synthetic Minority Over-sampling Technique) technique to balance the classes in our dataset before training and tuning the XGBoost model. SMOTE generates synthetic samples of the minority class to increase its representation and create a balanced training set. This will help us address the class imbalance issue in the data and improve the model's performance.\n",
        "\n",
        "Additionally, we will compare the results of the XGBoost model with the tuned versions of logistic regression and random forest models obtained in the previous notebook.\n"
      ]
    },
    {
      "cell_type": "code",
      "source": [
        "%%time\n",
        "# Model 3 - Balanced XGBoost\n",
        "\n",
        "# Define the column transformer with different transformers for different column types\n",
        "preprocessor = ColumnTransformer([\n",
        "    ('numeric', StandardScaler(), ['credit_policy', 'int_rate', 'installment', 'log_annual_inc', 'dti','days_with_cr_line',\n",
        "                                   'revol_bal', 'delinq_2yrs', 'pub_rec', 'multiple_hard_inq', 'cr_util_rate']),\n",
        "    ('categorical', OneHotEncoder(), ['purpose', 'credit_score_cat']),\n",
        "])\n",
        "\n",
        "# Create the pipeline with preprocessing, oversampling, undersampling, and model\n",
        "bal_xgb_model = Pipeline([\n",
        "    ('preprocessor', preprocessor),\n",
        "    ('oversampler', SMOTE(random_state=42)),\n",
        "    ('undersampler', RandomUnderSampler(random_state=42)),\n",
        "    ('classifier', XGBClassifier(objective='multi:softmax', num_class=len(np.unique(y_train)), random_state=42))\n",
        "])\n",
        "\n",
        "# Fit the model\n",
        "bal_xgb_model.fit(X_train, y_train)\n",
        "\n",
        "# Evaluate the model using cross-validation\n",
        "cv = StratifiedKFold(n_splits=5, shuffle=True, random_state=42)\n",
        "bal_xgb_scores = cross_val_score(bal_xgb_model, X_train, y_train, cv=cv, scoring='f1')\n",
        "print('Cross-Validation Scores:', bal_xgb_scores)\n",
        "print('F1 score Balanced XGB:', bal_xgb_scores.mean())"
      ],
      "metadata": {
        "colab": {
          "base_uri": "https://localhost:8080/"
        },
        "id": "IgArALJui-xb",
        "outputId": "a0c34dc0-1fa0-4e0b-9580-9429ef3ad022"
      },
      "id": "IgArALJui-xb",
      "execution_count": 12,
      "outputs": [
        {
          "output_type": "stream",
          "name": "stdout",
          "text": [
            "Cross-Validation Scores: [0.21004566 0.25396825 0.23129252 0.29875519 0.25165563]\n",
            "F1 score Balanced XGB: 0.24914344978731556\n",
            "CPU times: user 51.7 s, sys: 196 ms, total: 51.9 s\n",
            "Wall time: 30.5 s\n"
          ]
        }
      ]
    },
    {
      "cell_type": "code",
      "source": [
        "%%time\n",
        "# Perform cross-validation and obtain predicted labels\n",
        "bal_xgb_y_pred = cross_val_predict(bal_xgb_model, X_train, y_train, cv=cv)\n",
        "\n",
        "# Balanced XGBoost Classification Report\n",
        "print('Balanced XGBoost Classification Report: ')\n",
        "print(classification_report(y_train, bal_xgb_y_pred))\n"
      ],
      "metadata": {
        "colab": {
          "base_uri": "https://localhost:8080/"
        },
        "id": "nSa0dRJ2IazU",
        "outputId": "9e2c7aad-d730-4391-f0dc-fe4b96862e8a"
      },
      "id": "nSa0dRJ2IazU",
      "execution_count": 13,
      "outputs": [
        {
          "output_type": "stream",
          "name": "stdout",
          "text": [
            "Balanced XGBoost Classification Report: \n",
            "              precision    recall  f1-score   support\n",
            "\n",
            "           0       0.86      0.88      0.87      6434\n",
            "           1       0.27      0.23      0.25      1228\n",
            "\n",
            "    accuracy                           0.78      7662\n",
            "   macro avg       0.57      0.56      0.56      7662\n",
            "weighted avg       0.76      0.78      0.77      7662\n",
            "\n",
            "CPU times: user 40.1 s, sys: 129 ms, total: 40.2 s\n",
            "Wall time: 22.7 s\n"
          ]
        }
      ]
    },
    {
      "cell_type": "code",
      "source": [
        "# Plot Confusion Matrix\n",
        "\n",
        "cm = confusion_matrix(y_train, bal_xgb_y_pred, labels=bal_xgb_model.classes_)\n",
        "disp = ConfusionMatrixDisplay(confusion_matrix=cm, display_labels=bal_xgb_model.classes_)\n",
        "disp.plot()\n",
        "plt.title('Confusion Matrix - Balanced XGBoost')\n",
        "plt.show()"
      ],
      "metadata": {
        "colab": {
          "base_uri": "https://localhost:8080/",
          "height": 472
        },
        "id": "EU-pMknjYypj",
        "outputId": "1b3963c4-9add-4846-bd1d-0a6ffcb7fc48"
      },
      "id": "EU-pMknjYypj",
      "execution_count": 14,
      "outputs": [
        {
          "output_type": "display_data",
          "data": {
            "text/plain": [
              "<Figure size 640x480 with 2 Axes>"
            ],
            "image/png": "[encoded data removed]"
          },
          "metadata": {}
        }
      ]
    },
    {
      "cell_type": "markdown",
      "source": [
        "In the context of fully paid loans and not fully paid loans (loan defaulters), we can interpret the confusion matrix as follows:\n",
        "\n",
        "- True Label 0 (Fully Paid Loans) and Predicted Label 0 (Predicted Fully Paid Loans) have a count of 5689. These are the instances where the model correctly predicted the fully paid loans. These are the true negatives, indicating instances that were actually fully paid and were correctly classified as fully paid by the model.\n",
        "\n",
        "- True Label 1 (Not Fully Paid Loans) and Predicted Label 0 (Predicted Fully Paid Loans) have a count of 946. These are the instances where the model incorrectly predicted the fully paid loans instead of the not fully paid loans. These are the false negatives, indicating instances that were actually not fully paid or loan defaulters but were mistakenly classified as fully paid by the model. This suggests that the model missed identifying 946 instances of loan defaulters.\n",
        "\n",
        "- True Label 0 (Fully Paid Loans) and Predicted Label 1 (Predicted Loan Defaulters) have a count of 745. These are the instances where the model incorrectly predicted the loan defaulters instead of fully paid loans. These are the false positives, indicating instances that were actually fully paid but were mistakenly classified as loan defaulters by the model.\n",
        "\n",
        "- True Label 1 (Not Fully Paid Loans) and Predicted Label 1 (Predicted Not Fully Paid Loans) have a count of 282. These are the instances where the model correctly predicted the loan defaulters. These are the true positives, indicating instances that were actually not fully paid or loan defaulters and were correctly classified as loan defaulters by the model."
      ],
      "metadata": {
        "id": "Tct5PdTxzHNR"
      },
      "id": "Tct5PdTxzHNR"
    },
    {
      "cell_type": "markdown",
      "source": [
        "## V. Hyperparameter Tuning\n",
        "\n",
        "Perform hyperparameter tuning using randomized search technique. Explore various hyperparameter combinations and select the set of hyperparameters that maximizes the F1-score."
      ],
      "metadata": {
        "id": "mFsLm2_O0Ewh"
      },
      "id": "mFsLm2_O0Ewh"
    },
    {
      "cell_type": "code",
      "source": [
        "%%time\n",
        "# Balanced XGBoost Tuning\n",
        "\n",
        "# Define the parameter distribution\n",
        "param_grid_xgb = {\n",
        "    # Control how much the model learns from each mistake it makes\n",
        "    'classifier__learning_rate': [0.01, 0.5, 1],\n",
        "    # Number of decision trees to be built\n",
        "    'classifier__n_estimators': range(100, 500, 100),\n",
        "    # Maximum depth of each decision tree\n",
        "    'classifier__max_depth': [3, 5, 10, 15],\n",
        "}\n",
        "\n",
        "# Create the randomized search object\n",
        "rsearch_xgb = RandomizedSearchCV(estimator=bal_xgb_model, scoring='f1', param_distributions=param_grid_xgb, n_iter=10, cv=15, random_state=42, n_jobs=-1)\n",
        "\n",
        "# Fit the randomized search to the training data\n",
        "rsearch_xgb.fit(X_train, y_train)\n",
        "\n",
        "# Print the best parameters and best score\n",
        "print('Best Hyperparameters:', rsearch_xgb.best_params_)\n",
        "print('Best Score:', rsearch_xgb.best_score_)\n"
      ],
      "metadata": {
        "colab": {
          "base_uri": "https://localhost:8080/"
        },
        "id": "kA9QnmB30Lzi",
        "outputId": "2afe2230-7ee9-48bd-9419-2acea9ff5fad"
      },
      "id": "kA9QnmB30Lzi",
      "execution_count": 15,
      "outputs": [
        {
          "output_type": "stream",
          "name": "stdout",
          "text": [
            "Best Hyperparameters: {'classifier__n_estimators': 100, 'classifier__max_depth': 5, 'classifier__learning_rate': 0.01}\n",
            "Best Score: 0.31384421247587435\n",
            "CPU times: user 29.8 s, sys: 3.7 s, total: 33.5 s\n",
            "Wall time: 35min 55s\n"
          ]
        }
      ]
    },
    {
      "cell_type": "code",
      "source": [
        "%%time\n",
        "# Fitting the model with the tuned hyperparameters\n",
        "\n",
        "# Define the column transformer with different transformers for different column types\n",
        "preprocessor = ColumnTransformer([\n",
        "    ('numeric', StandardScaler(), ['credit_policy', 'int_rate', 'installment', 'log_annual_inc', 'dti','days_with_cr_line',\n",
        "                                   'revol_bal', 'delinq_2yrs', 'pub_rec', 'multiple_hard_inq', 'cr_util_rate']),\n",
        "    ('categorical', OneHotEncoder(), ['purpose', 'credit_score_cat']),\n",
        "])\n",
        "\n",
        "# Create the pipeline with preprocessing, oversampling, undersampling, and model\n",
        "tuned_xgb_model = Pipeline([\n",
        "    ('preprocessor', preprocessor),\n",
        "    ('oversampler', SMOTE(random_state=42)),\n",
        "    ('undersampler', RandomUnderSampler(random_state=42)),\n",
        "    ('classifier', XGBClassifier(objective='multi:softmax',\n",
        "                                 num_class=len(np.unique(y_train)),\n",
        "                                 random_state=42,\n",
        "                                 n_estimators=100,\n",
        "                                 max_depth=5,\n",
        "                                 learning_rate=0.01))\n",
        "])\n",
        "\n",
        "# Fit the model\n",
        "tuned_xgb_model.fit(X_train, y_train)\n",
        "\n",
        "# Evaluate the model using cross-validation\n",
        "cv = StratifiedKFold(n_splits=5, shuffle=True, random_state=42)\n",
        "tuned_xgb_scores = cross_val_score(tuned_xgb_model, X_train, y_train, cv=cv, scoring='f1')\n",
        "print('Cross-Validation Scores:', tuned_xgb_scores)\n",
        "print('F1 score Balanced XGB:', tuned_xgb_scores.mean())"
      ],
      "metadata": {
        "colab": {
          "base_uri": "https://localhost:8080/"
        },
        "id": "F8oNW-vReYf3",
        "outputId": "fb67b229-3260-4a99-b60d-095285bb3ea3"
      },
      "id": "F8oNW-vReYf3",
      "execution_count": 27,
      "outputs": [
        {
          "output_type": "stream",
          "name": "stdout",
          "text": [
            "Cross-Validation Scores: [0.306914   0.31672598 0.34295416 0.32404181 0.28472222]\n",
            "F1 score Balanced XGB: 0.31507163378728953\n",
            "CPU times: user 45.6 s, sys: 0 ns, total: 45.6 s\n",
            "Wall time: 26.4 s\n"
          ]
        }
      ]
    },
    {
      "cell_type": "code",
      "source": [
        "%%time\n",
        "# Perform cross-validation and obtain predicted labels\n",
        "tuned_xgb_y_pred = cross_val_predict(tuned_xgb_model, X_train, y_train, cv=cv, n_jobs=-1)"
      ],
      "metadata": {
        "colab": {
          "base_uri": "https://localhost:8080/"
        },
        "id": "YuwXV9QEZG0f",
        "outputId": "fec6f8ed-185e-4c6e-e751-03ec876e8477"
      },
      "id": "YuwXV9QEZG0f",
      "execution_count": 30,
      "outputs": [
        {
          "output_type": "stream",
          "name": "stdout",
          "text": [
            "CPU times: user 277 ms, sys: 44.4 ms, total: 322 ms\n",
            "Wall time: 22.5 s\n"
          ]
        }
      ]
    },
    {
      "cell_type": "code",
      "source": [
        "# Tuned XGBoost Classification Report\n",
        "print('Tuned XGBoost Classification Report: ')\n",
        "print(classification_report(y_train, tuned_xgb_y_pred))"
      ],
      "metadata": {
        "colab": {
          "base_uri": "https://localhost:8080/"
        },
        "id": "DaX7oKj5fUiH",
        "outputId": "b7dfb72b-5e74-47c5-a769-25a38702a27d"
      },
      "id": "DaX7oKj5fUiH",
      "execution_count": 40,
      "outputs": [
        {
          "output_type": "stream",
          "name": "stdout",
          "text": [
            "Tuned XGBoost Classification Report: \n",
            "              precision    recall  f1-score   support\n",
            "\n",
            "           0       0.87      0.81      0.84      6434\n",
            "           1       0.27      0.37      0.32      1228\n",
            "\n",
            "    accuracy                           0.74      7662\n",
            "   macro avg       0.57      0.59      0.58      7662\n",
            "weighted avg       0.78      0.74      0.76      7662\n",
            "\n"
          ]
        }
      ]
    },
    {
      "cell_type": "code",
      "source": [
        "# Plot Confusion Matrix\n",
        "cm = confusion_matrix(y_train, tuned_xgb_y_pred, labels=tuned_xgb_model.classes_)\n",
        "disp = ConfusionMatrixDisplay(confusion_matrix=cm, display_labels=tuned_xgb_model.classes_)\n",
        "disp.plot()\n",
        "plt.title('Confusion Matrix - Tuned XGBoost')\n",
        "plt.show()"
      ],
      "metadata": {
        "colab": {
          "base_uri": "https://localhost:8080/",
          "height": 472
        },
        "id": "K9QtGkEUhDcu",
        "outputId": "34c9b810-de15-4204-9535-65124eec25a8"
      },
      "id": "K9QtGkEUhDcu",
      "execution_count": 42,
      "outputs": [
        {
          "output_type": "display_data",
          "data": {
            "text/plain": [
              "<Figure size 640x480 with 2 Axes>"
            ],
            "image/png": "[encoded data removed]"
          },
          "metadata": {}
        }
      ]
    },
    {
      "cell_type": "markdown",
      "source": [
        "Based on the importance of the F1-score as the primary evaluation metric and the consideration for achieving good overall accuracy, the Tuned XGBoost model seems to be the better model choice.\n",
        "\n",
        "Although the Balanced XGBoost model demonstrates higher precision, recall, and F1-score for both classes individually, the Tuned XGBoost model excels in terms of recall and F1-score specifically for class 1 (not fully paid loans) and achieves a higher macro average F1-score. This indicates that the Tuned XGBoost model is better at correctly identifying instances of loan default.\n",
        "\n",
        "Additionally, it is important to note that the Tuned XGBoost model achieves a good overall accuracy, although slightly lower than the Balanced XGBoost model. However, considering the focus on the F1-score and the specific goal of predicting loan default risk, the Tuned XGBoost model provides a more balanced performance in terms of precision, recall, and F1-score for the critical class 1.\n",
        "\n",
        "The process of tuning the XGBoost model involved exploring different hyperparameter search spaces. However, due to the computational expense and time required, it was not possible to exhaustively explore all possible combinations of hyperparameters. Not all search spaces resulted in satisfactory results, highlighting the challenges and trade-offs of hyperparameter tuning.\n",
        "\n",
        "It is important to acknowledge the limitations of the search spaces used in this project and the need for careful consideration when designing them. Future experiments could explore more efficient hyperparameter optimization techniques, such as Bayesian optimization, to improve the tuning process.\n",
        "\n",
        "The results indicate that the Tuned XGBoost model offers a more reliable and effective approach for predicting loan default risk compared to the Balanced XGBoost model, across all evaluated metrics."
      ],
      "metadata": {
        "id": "Zag1pC6biOdV"
      },
      "id": "Zag1pC6biOdV"
    },
    {
      "cell_type": "markdown",
      "source": [
        "## VI. Communicate Results\n",
        "\n",
        "Which features are most important to our model when making predictions?"
      ],
      "metadata": {
        "id": "GKezxT5U5P-d"
      },
      "id": "GKezxT5U5P-d"
    },
    {
      "cell_type": "code",
      "source": [
        "%%time\n",
        "# Perform permutation importance\n",
        "result = permutation_importance(tuned_xgb_model, X_train, y_train, scoring='f1', n_repeats=10, random_state=42)\n",
        "\n",
        "# Get feature importances and names\n",
        "importances = result.importances_mean\n",
        "feature_names = X_train.columns\n",
        "\n",
        "# Sort feature importances in descending order\n",
        "sorted_indices = importances.argsort()[::1]\n",
        "sorted_importances = importances[sorted_indices]\n",
        "sorted_feature_names = feature_names[sorted_indices]\n",
        "\n",
        "# Plot the feature importances\n",
        "plt.figure(figsize=(10, 6))\n",
        "plt.barh(range(len(sorted_importances)), sorted_importances, align='center')\n",
        "plt.yticks(range(len(sorted_importances)), sorted_feature_names)\n",
        "plt.xlabel('Importance')\n",
        "plt.ylabel('Features')\n",
        "plt.title('Permutation Importance - Tuned XGBoost')\n",
        "plt.show()\n"
      ],
      "metadata": {
        "colab": {
          "base_uri": "https://localhost:8080/",
          "height": 599
        },
        "id": "NksZDLA60XoK",
        "outputId": "affa7cec-d4bb-4e63-bd7b-602db979bd07"
      },
      "id": "NksZDLA60XoK",
      "execution_count": 33,
      "outputs": [
        {
          "output_type": "display_data",
          "data": {
            "text/plain": [
              "<Figure size 1000x600 with 1 Axes>"
            ],
            "image/png": "[encoded data removed]"
          },
          "metadata": {}
        },
        {
          "output_type": "stream",
          "name": "stdout",
          "text": [
            "CPU times: user 10.6 s, sys: 124 ms, total: 10.7 s\n",
            "Wall time: 8.27 s\n"
          ]
        }
      ]
    },
    {
      "cell_type": "code",
      "source": [
        "%%time\n",
        "data_perm = {'imp_mean':result['importances_mean'],\n",
        "             'imp_std':result['importances_std']}\n",
        "df_perm = pd.DataFrame(data_perm, index=X_train.columns).sort_values('imp_mean')\n",
        "df_perm"
      ],
      "metadata": {
        "colab": {
          "base_uri": "https://localhost:8080/",
          "height": 491
        },
        "id": "xEnU2cvU4cI-",
        "outputId": "03fe56d0-d9f5-444f-8726-efe512fcdd59"
      },
      "id": "xEnU2cvU4cI-",
      "execution_count": 37,
      "outputs": [
        {
          "output_type": "stream",
          "name": "stdout",
          "text": [
            "CPU times: user 2.95 ms, sys: 0 ns, total: 2.95 ms\n",
            "Wall time: 2.89 ms\n"
          ]
        },
        {
          "output_type": "execute_result",
          "data": {
            "text/plain": [
              "                   imp_mean   imp_std\n",
              "cr_util_rate      -0.000215  0.000857\n",
              "installment        0.000185  0.000722\n",
              "pub_rec            0.000336  0.000651\n",
              "revol_bal          0.003251  0.001242\n",
              "dti                0.005286  0.001995\n",
              "log_annual_inc     0.006637  0.002393\n",
              "delinq_2yrs        0.007259  0.002141\n",
              "days_with_cr_line  0.007496  0.001586\n",
              "credit_score_cat   0.010517  0.003524\n",
              "multiple_hard_inq  0.021288  0.004661\n",
              "credit_policy      0.023019  0.003643\n",
              "int_rate           0.040535  0.006040\n",
              "purpose            0.047530  0.004897"
            ],
            "text/html": [
              "\n",
              "\n",
              "  <div id=\"df-a6006374-430f-4f5c-972a-77aae84c2fca\">\n",
              "    <div class=\"colab-df-container\">\n",
              "      <div>\n",
              "<style scoped>\n",
              "    .dataframe tbody tr th:only-of-type {\n",
              "        vertical-align: middle;\n",
              "    }\n",
              "\n",
              "    .dataframe tbody tr th {\n",
              "        vertical-align: top;\n",
              "    }\n",
              "\n",
              "    .dataframe thead th {\n",
              "        text-align: right;\n",
              "    }\n",
              "</style>\n",
              "<table border=\"1\" class=\"dataframe\">\n",
              "  <thead>\n",
              "    <tr style=\"text-align: right;\">\n",
              "      <th></th>\n",
              "      <th>imp_mean</th>\n",
              "      <th>imp_std</th>\n",
              "    </tr>\n",
              "  </thead>\n",
              "  <tbody>\n",
              "    <tr>\n",
              "      <th>cr_util_rate</th>\n",
              "      <td>-0.000215</td>\n",
              "      <td>0.000857</td>\n",
              "    </tr>\n",
              "    <tr>\n",
              "      <th>installment</th>\n",
              "      <td>0.000185</td>\n",
              "      <td>0.000722</td>\n",
              "    </tr>\n",
              "    <tr>\n",
              "      <th>pub_rec</th>\n",
              "      <td>0.000336</td>\n",
              "      <td>0.000651</td>\n",
              "    </tr>\n",
              "    <tr>\n",
              "      <th>revol_bal</th>\n",
              "      <td>0.003251</td>\n",
              "      <td>0.001242</td>\n",
              "    </tr>\n",
              "    <tr>\n",
              "      <th>dti</th>\n",
              "      <td>0.005286</td>\n",
              "      <td>0.001995</td>\n",
              "    </tr>\n",
              "    <tr>\n",
              "      <th>log_annual_inc</th>\n",
              "      <td>0.006637</td>\n",
              "      <td>0.002393</td>\n",
              "    </tr>\n",
              "    <tr>\n",
              "      <th>delinq_2yrs</th>\n",
              "      <td>0.007259</td>\n",
              "      <td>0.002141</td>\n",
              "    </tr>\n",
              "    <tr>\n",
              "      <th>days_with_cr_line</th>\n",
              "      <td>0.007496</td>\n",
              "      <td>0.001586</td>\n",
              "    </tr>\n",
              "    <tr>\n",
              "      <th>credit_score_cat</th>\n",
              "      <td>0.010517</td>\n",
              "      <td>0.003524</td>\n",
              "    </tr>\n",
              "    <tr>\n",
              "      <th>multiple_hard_inq</th>\n",
              "      <td>0.021288</td>\n",
              "      <td>0.004661</td>\n",
              "    </tr>\n",
              "    <tr>\n",
              "      <th>credit_policy</th>\n",
              "      <td>0.023019</td>\n",
              "      <td>0.003643</td>\n",
              "    </tr>\n",
              "    <tr>\n",
              "      <th>int_rate</th>\n",
              "      <td>0.040535</td>\n",
              "      <td>0.006040</td>\n",
              "    </tr>\n",
              "    <tr>\n",
              "      <th>purpose</th>\n",
              "      <td>0.047530</td>\n",
              "      <td>0.004897</td>\n",
              "    </tr>\n",
              "  </tbody>\n",
              "</table>\n",
              "</div>\n",
              "      <button class=\"colab-df-convert\" onclick=\"convertToInteractive('df-a6006374-430f-4f5c-972a-77aae84c2fca')\"\n",
              "              title=\"Convert this dataframe to an interactive table.\"\n",
              "              style=\"display:none;\">\n",
              "\n",
              "  <svg xmlns=\"http://www.w3.org/2000/svg\" height=\"24px\"viewBox=\"0 0 24 24\"\n",
              "       width=\"24px\">\n",
              "    <path d=\"M0 0h24v24H0V0z\" fill=\"none\"/>\n",
              "    <path d=\"M18.56 5.44l.94 2.06.94-2.06 2.06-.94-2.06-.94-.94-2.06-.94 2.06-2.06.94zm-11 1L8.5 8.5l.94-2.06 2.06-.94-2.06-.94L8.5 2.5l-.94 2.06-2.06.94zm10 10l.94 2.06.94-2.06 2.06-.94-2.06-.94-.94-2.06-.94 2.06-2.06.94z\"/><path d=\"M17.41 7.96l-1.37-1.37c-.4-.4-.92-.59-1.43-.59-.52 0-1.04.2-1.43.59L10.3 9.45l-7.72 7.72c-.78.78-.78 2.05 0 2.83L4 21.41c.39.39.9.59 1.41.59.51 0 1.02-.2 1.41-.59l7.78-7.78 2.81-2.81c.8-.78.8-2.07 0-2.86zM5.41 20L4 18.59l7.72-7.72 1.47 1.35L5.41 20z\"/>\n",
              "  </svg>\n",
              "      </button>\n",
              "\n",
              "\n",
              "\n",
              "    <div id=\"df-fea05e95-0a68-4236-a585-0871474901da\">\n",
              "      <button class=\"colab-df-quickchart\" onclick=\"quickchart('df-fea05e95-0a68-4236-a585-0871474901da')\"\n",
              "              title=\"Suggest charts.\"\n",
              "              style=\"display:none;\">\n",
              "\n",
              "<svg xmlns=\"http://www.w3.org/2000/svg\" height=\"24px\"viewBox=\"0 0 24 24\"\n",
              "     width=\"24px\">\n",
              "    <g>\n",
              "        <path d=\"M19 3H5c-1.1 0-2 .9-2 2v14c0 1.1.9 2 2 2h14c1.1 0 2-.9 2-2V5c0-1.1-.9-2-2-2zM9 17H7v-7h2v7zm4 0h-2V7h2v10zm4 0h-2v-4h2v4z\"/>\n",
              "    </g>\n",
              "</svg>\n",
              "      </button>\n",
              "    </div>\n",
              "\n",
              "<style>\n",
              "  .colab-df-quickchart {\n",
              "    background-color: #E8F0FE;\n",
              "    border: none;\n",
              "    border-radius: 50%;\n",
              "    cursor: pointer;\n",
              "    display: none;\n",
              "    fill: #1967D2;\n",
              "    height: 32px;\n",
              "    padding: 0 0 0 0;\n",
              "    width: 32px;\n",
              "  }\n",
              "\n",
              "  .colab-df-quickchart:hover {\n",
              "    background-color: #E2EBFA;\n",
              "    box-shadow: 0px 1px 2px rgba(60, 64, 67, 0.3), 0px 1px 3px 1px rgba(60, 64, 67, 0.15);\n",
              "    fill: #174EA6;\n",
              "  }\n",
              "\n",
              "  [theme=dark] .colab-df-quickchart {\n",
              "    background-color: #3B4455;\n",
              "    fill: #D2E3FC;\n",
              "  }\n",
              "\n",
              "  [theme=dark] .colab-df-quickchart:hover {\n",
              "    background-color: #434B5C;\n",
              "    box-shadow: 0px 1px 3px 1px rgba(0, 0, 0, 0.15);\n",
              "    filter: drop-shadow(0px 1px 2px rgba(0, 0, 0, 0.3));\n",
              "    fill: #FFFFFF;\n",
              "  }\n",
              "</style>\n",
              "\n",
              "    <script>\n",
              "      async function quickchart(key) {\n",
              "        const containerElement = document.querySelector('#' + key);\n",
              "        const charts = await google.colab.kernel.invokeFunction(\n",
              "            'suggestCharts', [key], {});\n",
              "      }\n",
              "    </script>\n",
              "\n",
              "      <script>\n",
              "\n",
              "function displayQuickchartButton(domScope) {\n",
              "  let quickchartButtonEl =\n",
              "    domScope.querySelector('#df-fea05e95-0a68-4236-a585-0871474901da button.colab-df-quickchart');\n",
              "  quickchartButtonEl.style.display =\n",
              "    google.colab.kernel.accessAllowed ? 'block' : 'none';\n",
              "}\n",
              "\n",
              "        displayQuickchartButton(document);\n",
              "      </script>\n",
              "      <style>\n",
              "    .colab-df-container {\n",
              "      display:flex;\n",
              "      flex-wrap:wrap;\n",
              "      gap: 12px;\n",
              "    }\n",
              "\n",
              "    .colab-df-convert {\n",
              "      background-color: #E8F0FE;\n",
              "      border: none;\n",
              "      border-radius: 50%;\n",
              "      cursor: pointer;\n",
              "      display: none;\n",
              "      fill: #1967D2;\n",
              "      height: 32px;\n",
              "      padding: 0 0 0 0;\n",
              "      width: 32px;\n",
              "    }\n",
              "\n",
              "    .colab-df-convert:hover {\n",
              "      background-color: #E2EBFA;\n",
              "      box-shadow: 0px 1px 2px rgba(60, 64, 67, 0.3), 0px 1px 3px 1px rgba(60, 64, 67, 0.15);\n",
              "      fill: #174EA6;\n",
              "    }\n",
              "\n",
              "    [theme=dark] .colab-df-convert {\n",
              "      background-color: #3B4455;\n",
              "      fill: #D2E3FC;\n",
              "    }\n",
              "\n",
              "    [theme=dark] .colab-df-convert:hover {\n",
              "      background-color: #434B5C;\n",
              "      box-shadow: 0px 1px 3px 1px rgba(0, 0, 0, 0.15);\n",
              "      filter: drop-shadow(0px 1px 2px rgba(0, 0, 0, 0.3));\n",
              "      fill: #FFFFFF;\n",
              "    }\n",
              "  </style>\n",
              "\n",
              "      <script>\n",
              "        const buttonEl =\n",
              "          document.querySelector('#df-a6006374-430f-4f5c-972a-77aae84c2fca button.colab-df-convert');\n",
              "        buttonEl.style.display =\n",
              "          google.colab.kernel.accessAllowed ? 'block' : 'none';\n",
              "\n",
              "        async function convertToInteractive(key) {\n",
              "          const element = document.querySelector('#df-a6006374-430f-4f5c-972a-77aae84c2fca');\n",
              "          const dataTable =\n",
              "            await google.colab.kernel.invokeFunction('convertToInteractive',\n",
              "                                                     [key], {});\n",
              "          if (!dataTable) return;\n",
              "\n",
              "          const docLinkHtml = 'Like what you see? Visit the ' +\n",
              "            '<a target=\"_blank\" href=https://colab.research.google.com/notebooks/data_table.ipynb>data table notebook</a>'\n",
              "            + ' to learn more about interactive tables.';\n",
              "          element.innerHTML = '';\n",
              "          dataTable['output_type'] = 'display_data';\n",
              "          await google.colab.output.renderOutput(dataTable, element);\n",
              "          const docLink = document.createElement('div');\n",
              "          docLink.innerHTML = docLinkHtml;\n",
              "          element.appendChild(docLink);\n",
              "        }\n",
              "      </script>\n",
              "    </div>\n",
              "  </div>\n"
            ]
          },
          "metadata": {},
          "execution_count": 37
        }
      ]
    },
    {
      "cell_type": "markdown",
      "source": [
        "Based on the permutation importances, we can see that the most important features for predicting loan default risk are:\n",
        "\n",
        "1. Purpose: This feature has the highest importance, indicating that the purpose of the loan plays a significant role in determining the likelihood of default.\n",
        "\n",
        "2. Interest Rate: The interest rate is the second most important feature, suggesting that higher interest rates may be associated with a higher risk of default.\n",
        "\n",
        "3. Credit Policy: The credit policy, which represents whether the customer meets the credit underwriting criteria of LendingClub, is also a significant predictor of loan default.\n",
        "\n",
        "Other features such as credit score category, multiple hard inquiries, and days with a credit line also contribute to the model's performance but to a lesser extent. On the other hand, features like cr_util_rate, installment, pub_rec, and revol_bal have relatively lower importance or even negative values, indicating that they have less impact on predicting loan default risk.\n",
        "\n",
        "These permutation importances provide valuable insights into the relative importance of different features and can be used to prioritize and focus on key factors when making decisions related to loan default risk assessment."
      ],
      "metadata": {
        "id": "iNNJiatDmPnY"
      },
      "id": "iNNJiatDmPnY"
    },
    {
      "cell_type": "markdown",
      "source": [
        "### Model Comparisons\n",
        "\n",
        "| Metric              | Tuned LR | Tuned RF | Tuned XGBoost |\n",
        "| ------------------- | -------- | -------- | ------------- |\n",
        "| Accuracy            | 0.64     | 0.71     | 0.74          |\n",
        "| Macro Avg F1        | 0.55     | 0.57     | 0.58          |\n",
        "| Weighted Avg F1     | 0.69     | 0.74     | 0.76          |\n",
        "| Precision (Class 0) | 0.89     | 0.88     | 0.87          |\n",
        "| Precision (Class 1) | 0.24     | 0.26     | 0.27          |\n",
        "| Recall (Class 0)    | 0.66     | 0.77     | 0.81          |\n",
        "| Recall (Class 1)    | 0.58     | 0.44     | 0.37          |\n",
        "| F1-Score (Class 0)  | 0.76     | 0.82     | 0.84          |\n",
        "| F1-Score (Class 1)  | 0.34     | 0.33     | 0.32          |\n",
        "\n",
        "\n",
        "\n"
      ],
      "metadata": {
        "id": "hR2kgztaoi5E"
      },
      "id": "hR2kgztaoi5E"
    },
    {
      "cell_type": "markdown",
      "source": [
        "The table above includes the metrics for the Tuned XGBoost model alongside the metrics for the Tuned Logistic Regression (LR) and Tuned Random Forest (RF) models. It provides a comparison of the performance of these three models in terms of accuracy, macro average F1-score, weighted average F1-score, precision, recall, and F1-score for each class.\n",
        "\n",
        "For identifying borrowers more likely to default (class 1), the Tuned XGBoost model achieves a precision of 0.27, recall of 0.37, and F1-score of 0.32.\n",
        "Considering these metrics, the Tuned XGBoost model is still the best model among the three options. It demonstrates higher recall, and F1-score for class 0 (fully paid loans) compared to the other models. While the precision, recall, and F1-score for class 1 (not fully paid loans) are relatively low.\n",
        "\n",
        "It's important to note that predicting loan defaults is a challenging task and achieving high accuracy for both classes simultaneously can be difficult. Therefore, in this business scenario, the Tuned XGBoost model remains the recommended choice for predicting loan default risk.\n",
        "\n",
        "\n",
        "\n"
      ],
      "metadata": {
        "id": "bA0zQanHpiv7"
      },
      "id": "bA0zQanHpiv7"
    },
    {
      "cell_type": "code",
      "source": [],
      "metadata": {
        "id": "bSxsq_KZgaF9"
      },
      "id": "bSxsq_KZgaF9",
      "execution_count": null,
      "outputs": []
    }
  ],
  "metadata": {
    "kernelspec": {
      "display_name": "Python 3 (ipykernel)",
      "language": "python",
      "name": "python3"
    },
    "language_info": {
      "codemirror_mode": {
        "name": "ipython",
        "version": 3
      },
      "file_extension": ".py",
      "mimetype": "text/x-python",
      "name": "python",
      "nbconvert_exporter": "python",
      "pygments_lexer": "ipython3",
      "version": "3.8.9"
    },
    "colab": {
      "provenance": []
    }
  },
  "nbformat": 4,
  "nbformat_minor": 5
}